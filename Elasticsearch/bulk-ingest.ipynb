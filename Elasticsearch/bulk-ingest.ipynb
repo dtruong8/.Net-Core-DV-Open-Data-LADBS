{
 "cells": [
  {
   "cell_type": "code",
   "execution_count": 148,
   "metadata": {},
   "outputs": [],
   "source": [
    "import sys\n",
    "from os.path import exists\n",
    "# Smart progress bar reader...\n",
    "import tqdm\n",
    "import pandas as pd\n",
    "import json\n",
    "from sodapy import Socrata\n",
    "from elasticsearch import Elasticsearch\n",
    "from elasticsearch.helpers import streaming_bulk"
   ]
  },
  {
   "cell_type": "code",
   "execution_count": 149,
   "metadata": {},
   "outputs": [],
   "source": [
    "DATASET_PATH = 'C:/Users/Dean Truong/Jupyter/Elasticsearch/contractors.json'"
   ]
  },
  {
   "cell_type": "code",
   "execution_count": 150,
   "metadata": {},
   "outputs": [],
   "source": [
    "def download_dataset():\n",
    "# Downloads the public dataset if not locally downloaded \n",
    "# and returns the number of rows are in the .json file.\n",
    "\n",
    "    if not exists(DATASET_PATH):\n",
    "        print(\"JSON file does not exist...\")\n",
    "        print(\"Downloading dataset from data.lacity.org...\")\n",
    "        \n",
    "        client = Socrata(\"data.lacity.org\",\"8YzE0NUTN2pl4gdOcY5fAquLi\",username=\"dtruong8@toromail.csudh.edu\",password=\"Helloworld123.\")\n",
    "        \n",
    "        results = client.get(\"yv23-pmwf\",select=\"distinct contractors_business_name\", where=\"applicant_relationship = 'Contractor'\", order=\"contractors_business_name\")\n",
    "        \n",
    "        # convert to data frame\n",
    "        df = pd.DataFrame.from_records(results)\n",
    "        \n",
    "        df.to_json(r'C:/Users/Dean Truong/Jupyter/Elasticsearch/contractors.json',orient='records')\n",
    "        print(\"Dataset downloaded...\")\n",
    "        \n",
    "        return df.shape[0]\n",
    "    else:\n",
    "        df = pd.read_json(DATASET_PATH)\n",
    "        return df.shape[0]"
   ]
  },
  {
   "cell_type": "code",
   "execution_count": 151,
   "metadata": {},
   "outputs": [],
   "source": [
    "def create_index(client):\n",
    "    \"\"\"Creates an index in Elasticsearch if one isn't already there.\"\"\"\n",
    "    if client.indices.exists(index=\"contractors\"):\n",
    "        print(\"Error: 'contractor' index exist...\")\n",
    "        print(\"Deleting...\")\n",
    "        client.indices.delete(index=\"contractors\",ignore=[400, 404])\n",
    "        print(\"Successfully deleted index...\")\n",
    "        \n",
    "    client.indices.create(\n",
    "        index=\"contractors\",\n",
    "        body={\n",
    "            \"settings\": {\"number_of_shards\": 1},\n",
    "            \"mappings\": {\n",
    "                \"properties\": {\n",
    "                    \"names\": {\"type\": \"text\"},\n",
    "                }\n",
    "            },\n",
    "        },\n",
    "        ignore=400,\n",
    "    )\n",
    "    print(\"Successfully created contractor index\")\n",
    "        \n",
    "        "
   ]
  },
  {
   "cell_type": "code",
   "execution_count": 152,
   "metadata": {},
   "outputs": [],
   "source": [
    "def generate_actions():\n",
    "# Reads the file through csv.DictReader() and for each row\n",
    "# yields a single document. This function is passed into the bulk()\n",
    "# helper to create many documents in sequence.\n",
    "    with open(DATASET_PATH, mode=\"r\") as f:\n",
    "        data = json.load(f)\n",
    "        f.close()\n",
    "        i = 0\n",
    "        for names in data:\n",
    "            doc = {\n",
    "                \"_id\": i + 1,\n",
    "                \"name\": names[\"contractors_business_name\"]\n",
    "            }\n",
    "            i = i + 1\n",
    "            yield doc"
   ]
  },
  {
   "cell_type": "code",
   "execution_count": 155,
   "metadata": {},
   "outputs": [],
   "source": [
    "def main():\n",
    "    client = Elasticsearch(['localhost:9200'])\n",
    "    # print(es.info()) # verification\n",
    "    \n",
    "    number_of_docs = download_dataset()\n",
    "    \n",
    "    print(\"Creating index an index...\")\n",
    "    create_index(client)\n",
    "    \n",
    "    print(\"Indexing documents...\")\n",
    "    progress = tqdm.tqdm(unit=\"docs\", total=number_of_docs)\n",
    "    successes = 0\n",
    "    for ok, action in streaming_bulk(\n",
    "        client = client, index=\"contractors\", actions=generate_actions(),\n",
    "    ):\n",
    "        progress.update(1)\n",
    "        successes += ok\n",
    "    print(\"Indexed %d/%d documents\" % (successes, number_of_docs))\n",
    "    "
   ]
  },
  {
   "cell_type": "code",
   "execution_count": 156,
   "metadata": {},
   "outputs": [
    {
     "name": "stderr",
     "output_type": "stream",
     "text": [
      "\n",
      "\n",
      "  0%|          | 0/1000 [00:00<?, ?docs/s]\u001b[A\u001b[A"
     ]
    },
    {
     "name": "stdout",
     "output_type": "stream",
     "text": [
      "Creating index an index...\n",
      "Error: 'contractor' index exist...\n",
      "Deleting...\n",
      "Successfully deleted index...\n",
      "Successfully created contractor index\n",
      "Indexing documents...\n"
     ]
    },
    {
     "name": "stderr",
     "output_type": "stream",
     "text": [
      "\r",
      "100%|██████████| 1000/1000 [00:00<00:00, 11358.80docs/s]"
     ]
    },
    {
     "name": "stdout",
     "output_type": "stream",
     "text": [
      "Indexed 1000/1000 documents\n"
     ]
    },
    {
     "name": "stderr",
     "output_type": "stream",
     "text": [
      "\n"
     ]
    }
   ],
   "source": [
    "main()"
   ]
  },
  {
   "cell_type": "code",
   "execution_count": null,
   "metadata": {},
   "outputs": [],
   "source": []
  }
 ],
 "metadata": {
  "kernelspec": {
   "display_name": "Python 3",
   "language": "python",
   "name": "python3"
  },
  "language_info": {
   "codemirror_mode": {
    "name": "ipython",
    "version": 3
   },
   "file_extension": ".py",
   "mimetype": "text/x-python",
   "name": "python",
   "nbconvert_exporter": "python",
   "pygments_lexer": "ipython3",
   "version": "3.7.6"
  }
 },
 "nbformat": 4,
 "nbformat_minor": 4
}
